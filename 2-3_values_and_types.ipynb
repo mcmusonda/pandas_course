{
 "cells": [
  {
   "cell_type": "markdown",
   "id": "e266c28f-4a99-48ab-a6c7-ab6404092437",
   "metadata": {},
   "source": [
    "# Values and Data Types in Python"
   ]
  },
  {
   "cell_type": "markdown",
   "id": "7f3cb09f-09de-44d0-a6c1-7a9e0d376343",
   "metadata": {},
   "source": [
    "## Integers"
   ]
  },
  {
   "cell_type": "code",
   "execution_count": 1,
   "id": "230af1bb-6f75-4342-9047-27456e39c40c",
   "metadata": {},
   "outputs": [
    {
     "name": "stdout",
     "output_type": "stream",
     "text": [
      "42\n"
     ]
    }
   ],
   "source": [
    "print(42)"
   ]
  },
  {
   "cell_type": "code",
   "execution_count": 2,
   "id": "2799acd3-7f81-4140-96de-22545c020b4f",
   "metadata": {},
   "outputs": [
    {
     "name": "stdout",
     "output_type": "stream",
     "text": [
      "<class 'int'>\n"
     ]
    }
   ],
   "source": [
    "print(type(42))"
   ]
  },
  {
   "cell_type": "code",
   "execution_count": 3,
   "id": "9c375f57-52df-4523-850c-2e2e33403b16",
   "metadata": {},
   "outputs": [],
   "source": [
    "## Float"
   ]
  },
  {
   "cell_type": "code",
   "execution_count": 4,
   "id": "569b97de-0baa-4971-9851-f4e072571472",
   "metadata": {},
   "outputs": [
    {
     "name": "stdout",
     "output_type": "stream",
     "text": [
      "3.1423\n"
     ]
    }
   ],
   "source": [
    "print(3.1423)"
   ]
  },
  {
   "cell_type": "code",
   "execution_count": 5,
   "id": "e8c76c9f-98c9-474e-a223-c6b12fb25a68",
   "metadata": {},
   "outputs": [
    {
     "name": "stdout",
     "output_type": "stream",
     "text": [
      "<class 'float'>\n"
     ]
    }
   ],
   "source": [
    "print(type(3.4123))"
   ]
  },
  {
   "cell_type": "markdown",
   "id": "7e1748b4-2e7f-4ed0-9924-e8d3a1bb232f",
   "metadata": {},
   "source": [
    "## Strings"
   ]
  },
  {
   "cell_type": "code",
   "execution_count": 6,
   "id": "eb2415e5-0670-4941-86fa-8447d221c215",
   "metadata": {},
   "outputs": [
    {
     "name": "stdout",
     "output_type": "stream",
     "text": [
      "Welcome to Python programming\n"
     ]
    }
   ],
   "source": [
    "print(\"Welcome to Python programming\")"
   ]
  },
  {
   "cell_type": "code",
   "execution_count": 8,
   "id": "1f572415-56af-429b-9440-1c3f6c53f850",
   "metadata": {},
   "outputs": [
    {
     "name": "stdout",
     "output_type": "stream",
     "text": [
      "I'm a string.\n"
     ]
    }
   ],
   "source": [
    "print(\"I'm a string.\")"
   ]
  },
  {
   "cell_type": "code",
   "execution_count": 9,
   "id": "27c71b9a-408e-49ec-9c2e-780b827cb1b3",
   "metadata": {},
   "outputs": [
    {
     "name": "stdout",
     "output_type": "stream",
     "text": [
      "11.11\n"
     ]
    }
   ],
   "source": [
    "print(\"11.11\")"
   ]
  },
  {
   "cell_type": "code",
   "execution_count": null,
   "id": "08f4ed6c-1382-4200-bb1f-5ef18c8d74e2",
   "metadata": {},
   "outputs": [],
   "source": []
  }
 ],
 "metadata": {
  "kernelspec": {
   "display_name": "Python 3 (ipykernel)",
   "language": "python",
   "name": "python3"
  },
  "language_info": {
   "codemirror_mode": {
    "name": "ipython",
    "version": 3
   },
   "file_extension": ".py",
   "mimetype": "text/x-python",
   "name": "python",
   "nbconvert_exporter": "python",
   "pygments_lexer": "ipython3",
   "version": "3.12.7"
  }
 },
 "nbformat": 4,
 "nbformat_minor": 5
}
