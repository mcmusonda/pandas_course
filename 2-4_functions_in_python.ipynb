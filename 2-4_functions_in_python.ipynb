{
 "cells": [
  {
   "cell_type": "markdown",
   "id": "15291260-3542-4aba-aeb6-ec0703521096",
   "metadata": {},
   "source": [
    "# Functions in Python\n",
    "### A function is a named piece of code that we can invoke on demand to perform a specific task.\n",
    "### Some functions can return values.\n",
    "### Some functions requires arguments\n",
    "my_function(argument1, argument2, ...)"
   ]
  },
  {
   "cell_type": "markdown",
   "id": "1e5b20d2-32c1-44b8-b124-553a90ca0d6d",
   "metadata": {},
   "source": [
    "## type() Function"
   ]
  },
  {
   "cell_type": "code",
   "execution_count": 2,
   "id": "b082661b-3088-40fd-b835-18cf70a89218",
   "metadata": {},
   "outputs": [
    {
     "name": "stdout",
     "output_type": "stream",
     "text": [
      "<class 'int'>\n"
     ]
    }
   ],
   "source": [
    "print(type(123))"
   ]
  },
  {
   "cell_type": "code",
   "execution_count": 3,
   "id": "fd3f8ac7-48b8-4095-a864-87d9f0e87e46",
   "metadata": {},
   "outputs": [
    {
     "name": "stdout",
     "output_type": "stream",
     "text": [
      "<class 'str'>\n"
     ]
    }
   ],
   "source": [
    "print(type(\"Hello world!\"))"
   ]
  },
  {
   "cell_type": "markdown",
   "id": "43ee64ff-da21-47dd-9cc8-94a04b6de09e",
   "metadata": {},
   "source": [
    "## Converting from one type to anothe"
   ]
  },
  {
   "cell_type": "code",
   "execution_count": 5,
   "id": "1c5a3199-1227-4f71-9619-7c9dc2079219",
   "metadata": {},
   "outputs": [
    {
     "name": "stdout",
     "output_type": "stream",
     "text": [
      "123\n"
     ]
    }
   ],
   "source": [
    "print(int(123.24))"
   ]
  },
  {
   "cell_type": "code",
   "execution_count": 6,
   "id": "aaf6d4cd-c5a8-4d01-b69e-d9f9a64e2a0a",
   "metadata": {},
   "outputs": [
    {
     "name": "stdout",
     "output_type": "stream",
     "text": [
      "123.0\n"
     ]
    }
   ],
   "source": [
    "print(float(123))"
   ]
  },
  {
   "cell_type": "code",
   "execution_count": 7,
   "id": "b7dee48a-976b-4637-bcbc-856f616c3c55",
   "metadata": {},
   "outputs": [
    {
     "name": "stdout",
     "output_type": "stream",
     "text": [
      "123.0\n"
     ]
    }
   ],
   "source": [
    "print(float(\"123\"))"
   ]
  },
  {
   "cell_type": "code",
   "execution_count": 9,
   "id": "b270d32e-3019-4486-ac34-0784542989a1",
   "metadata": {},
   "outputs": [
    {
     "name": "stdout",
     "output_type": "stream",
     "text": [
      "12345\n"
     ]
    }
   ],
   "source": [
    "answer = str(12345)\n",
    "print(answer)"
   ]
  },
  {
   "cell_type": "code",
   "execution_count": 10,
   "id": "5542017e-d0d2-4716-a1a6-8c380d3ebeca",
   "metadata": {},
   "outputs": [
    {
     "name": "stdout",
     "output_type": "stream",
     "text": [
      "<class 'str'>\n"
     ]
    }
   ],
   "source": [
    "print(type(answer))"
   ]
  },
  {
   "cell_type": "code",
   "execution_count": null,
   "id": "a5f149f0-3e49-45b5-aafa-18acb52604c6",
   "metadata": {},
   "outputs": [],
   "source": []
  }
 ],
 "metadata": {
  "kernelspec": {
   "display_name": "Python 3 (ipykernel)",
   "language": "python",
   "name": "python3"
  },
  "language_info": {
   "codemirror_mode": {
    "name": "ipython",
    "version": 3
   },
   "file_extension": ".py",
   "mimetype": "text/x-python",
   "name": "python",
   "nbconvert_exporter": "python",
   "pygments_lexer": "ipython3",
   "version": "3.12.7"
  }
 },
 "nbformat": 4,
 "nbformat_minor": 5
}
