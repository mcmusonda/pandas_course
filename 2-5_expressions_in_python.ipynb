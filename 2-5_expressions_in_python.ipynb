{
 "cells": [
  {
   "cell_type": "markdown",
   "id": "18d3bbce-9faa-49c6-a638-e9a053ed3495",
   "metadata": {},
   "source": [
    "## Expressions"
   ]
  },
  {
   "cell_type": "markdown",
   "id": "f1180f9a-eb2a-4a4d-a2dd-1996b31e4123",
   "metadata": {},
   "source": [
    "### Operations are actions we can perform on vlaues like addition, subtractions, multiplications, etc."
   ]
  },
  {
   "cell_type": "markdown",
   "id": "7775f6df-1945-408d-8572-00bde3cc4f97",
   "metadata": {},
   "source": [
    "## Addition"
   ]
  },
  {
   "cell_type": "markdown",
   "id": "92001b81-b289-4458-89a4-1ba92fcddd2b",
   "metadata": {},
   "source": [
    "* Integer division // eg. 3 // 2 = 1\n",
    "* Mudulo % eg. 5 % 2 = 1\n",
    "* Exponentiation eg. 3 **2 = 9"
   ]
  },
  {
   "cell_type": "markdown",
   "id": "31cd9615-8a28-4038-a98d-ce068c3f142f",
   "metadata": {},
   "source": [
    "## Order of Operations\n",
    "PEMDAS\n",
    "* Parentheses\n",
    "* Exponents\n",
    "* Multiplication\n",
    "* Division\n",
    "* Addition\n",
    "* Subtraction"
   ]
  },
  {
   "cell_type": "code",
   "execution_count": 1,
   "id": "16ed3ae2-d405-47ad-ad03-1d9693e33f92",
   "metadata": {},
   "outputs": [
    {
     "data": {
      "text/plain": [
       "11"
      ]
     },
     "execution_count": 1,
     "metadata": {},
     "output_type": "execute_result"
    }
   ],
   "source": [
    "3 + 2*4"
   ]
  },
  {
   "cell_type": "code",
   "execution_count": 2,
   "id": "218f64d6-35cf-4942-9f0f-24b7759a9c6e",
   "metadata": {},
   "outputs": [
    {
     "data": {
      "text/plain": [
       "20"
      ]
     },
     "execution_count": 2,
     "metadata": {},
     "output_type": "execute_result"
    }
   ],
   "source": [
    "(3 + 2)*4"
   ]
  },
  {
   "cell_type": "markdown",
   "id": "a1dd7563-378e-4fa4-ab28-63328365d499",
   "metadata": {},
   "source": [
    "## Text Addition -- aka Concatenation"
   ]
  },
  {
   "cell_type": "code",
   "execution_count": 3,
   "id": "a53bab57-b490-42c4-a997-51801c5bbae3",
   "metadata": {},
   "outputs": [
    {
     "data": {
      "text/plain": [
       "'Howdy Earth'"
      ]
     },
     "execution_count": 3,
     "metadata": {},
     "output_type": "execute_result"
    }
   ],
   "source": [
    "\"Howdy\" + \" \" + \"Earth\""
   ]
  },
  {
   "cell_type": "markdown",
   "id": "90b0b4fd-7566-4a01-826f-b0201b969825",
   "metadata": {},
   "source": [
    "## Text Multiplication"
   ]
  },
  {
   "cell_type": "code",
   "execution_count": 5,
   "id": "461a3dcd-2afc-49cc-9c77-e4d3a173c154",
   "metadata": {},
   "outputs": [
    {
     "data": {
      "text/plain": [
       "'HelloHelloHello'"
      ]
     },
     "execution_count": 5,
     "metadata": {},
     "output_type": "execute_result"
    }
   ],
   "source": [
    "\"Hello\" * 3"
   ]
  },
  {
   "cell_type": "code",
   "execution_count": null,
   "id": "a1a92aac-279e-48be-b489-eba98ac76d51",
   "metadata": {},
   "outputs": [],
   "source": []
  }
 ],
 "metadata": {
  "kernelspec": {
   "display_name": "Python 3 (ipykernel)",
   "language": "python",
   "name": "python3"
  },
  "language_info": {
   "codemirror_mode": {
    "name": "ipython",
    "version": 3
   },
   "file_extension": ".py",
   "mimetype": "text/x-python",
   "name": "python",
   "nbconvert_exporter": "python",
   "pygments_lexer": "ipython3",
   "version": "3.12.7"
  }
 },
 "nbformat": 4,
 "nbformat_minor": 5
}
