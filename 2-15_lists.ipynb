{
 "cells": [
  {
   "cell_type": "markdown",
   "id": "97dc50cd-56cd-40b4-b364-5dea8d3d28e5",
   "metadata": {},
   "source": [
    "# Lists\n",
    "* Containers where you can store different types of data - numbers and strings\n",
    "* Lists are commonly employeed in analytics and data science."
   ]
  },
  {
   "cell_type": "code",
   "execution_count": 2,
   "id": "9eac3a94-79fb-4019-9394-edc4331d9ebb",
   "metadata": {},
   "outputs": [],
   "source": [
    "my_list = [1, 2, 3, 4, 5]"
   ]
  },
  {
   "cell_type": "code",
   "execution_count": 2,
   "id": "65223756-aef8-4e37-9f97-ce5ea052ebea",
   "metadata": {},
   "outputs": [
    {
     "data": {
      "text/plain": [
       "[1, 2, 3, 4, 5]"
      ]
     },
     "execution_count": 2,
     "metadata": {},
     "output_type": "execute_result"
    }
   ],
   "source": [
    "my_list"
   ]
  },
  {
   "cell_type": "code",
   "execution_count": 3,
   "id": "b7df0d13-cb0b-4227-847d-51b607efd4af",
   "metadata": {},
   "outputs": [
    {
     "data": {
      "text/plain": [
       "[1, 'two', 3.0, ['four', 5]]"
      ]
     },
     "execution_count": 3,
     "metadata": {},
     "output_type": "execute_result"
    }
   ],
   "source": [
    "mixed_list = [1, 'two', 3.0, ['four', 5]]\n",
    "mixed_list"
   ]
  },
  {
   "cell_type": "markdown",
   "id": "80795343-c35f-4e48-9412-48e4f0326b56",
   "metadata": {},
   "source": [
    "## indexing"
   ]
  },
  {
   "cell_type": "code",
   "execution_count": 5,
   "id": "db79f90d-850f-4aba-92ae-52dad8b2754d",
   "metadata": {},
   "outputs": [],
   "source": [
    "first_item = my_list[0]"
   ]
  },
  {
   "cell_type": "code",
   "execution_count": 6,
   "id": "a9966d50-4bef-4216-8a6d-d65dfabd7253",
   "metadata": {},
   "outputs": [
    {
     "data": {
      "text/plain": [
       "1"
      ]
     },
     "execution_count": 6,
     "metadata": {},
     "output_type": "execute_result"
    }
   ],
   "source": [
    "first_item"
   ]
  },
  {
   "cell_type": "markdown",
   "id": "ad82bc73-5206-43d1-95c8-3200d5500d5a",
   "metadata": {},
   "source": [
    "## Nested items"
   ]
  },
  {
   "cell_type": "code",
   "execution_count": 9,
   "id": "40438282-961b-4006-bd19-637cffb7f034",
   "metadata": {},
   "outputs": [],
   "source": [
    "nested_item = mixed_list[3]"
   ]
  },
  {
   "cell_type": "code",
   "execution_count": 10,
   "id": "9691ef78-0bf9-4265-b3ce-0b1da62dd003",
   "metadata": {},
   "outputs": [
    {
     "data": {
      "text/plain": [
       "['four', 5]"
      ]
     },
     "execution_count": 10,
     "metadata": {},
     "output_type": "execute_result"
    }
   ],
   "source": [
    "nested_item"
   ]
  },
  {
   "cell_type": "code",
   "execution_count": 12,
   "id": "d90ffbb4-9d99-4b59-bf6d-3f1e9903d98b",
   "metadata": {},
   "outputs": [],
   "source": [
    "nested_item = mixed_list[3][1]"
   ]
  },
  {
   "cell_type": "code",
   "execution_count": 13,
   "id": "ca9723c4-84fa-48c2-ab51-65392fc49b80",
   "metadata": {},
   "outputs": [
    {
     "data": {
      "text/plain": [
       "5"
      ]
     },
     "execution_count": 13,
     "metadata": {},
     "output_type": "execute_result"
    }
   ],
   "source": [
    "nested_item"
   ]
  },
  {
   "cell_type": "markdown",
   "id": "fa519e5a-cecf-4e43-9609-bd69151980c6",
   "metadata": {},
   "source": [
    "## Modifying list elements"
   ]
  },
  {
   "cell_type": "code",
   "execution_count": 5,
   "id": "48e0272d-e3c2-417f-a910-1798b6a11a37",
   "metadata": {},
   "outputs": [
    {
     "data": {
      "text/plain": [
       "[1, 'two', 3, 4, 5]"
      ]
     },
     "execution_count": 5,
     "metadata": {},
     "output_type": "execute_result"
    }
   ],
   "source": [
    " my_list[1] = 'two'\n",
    "my_list"
   ]
  },
  {
   "cell_type": "code",
   "execution_count": 7,
   "id": "fc5ba61c-4a5d-45b1-a52d-1d900d068314",
   "metadata": {},
   "outputs": [
    {
     "data": {
      "text/plain": [
       "[1, 'two', 3.0, ['four', 5], [6.0, 'seven']]"
      ]
     },
     "execution_count": 7,
     "metadata": {},
     "output_type": "execute_result"
    }
   ],
   "source": [
    "mixed_list.append([6.0, 'seven'])\n",
    "mixed_list"
   ]
  },
  {
   "cell_type": "code",
   "execution_count": 8,
   "id": "184b7474-e288-4ed4-808d-180b3370590e",
   "metadata": {},
   "outputs": [
    {
     "data": {
      "text/plain": [
       "5"
      ]
     },
     "execution_count": 8,
     "metadata": {},
     "output_type": "execute_result"
    }
   ],
   "source": [
    "len(mixed_list)"
   ]
  },
  {
   "cell_type": "code",
   "execution_count": null,
   "id": "bddf378a-c0a7-492c-9d6e-adf8b148fffd",
   "metadata": {},
   "outputs": [],
   "source": []
  }
 ],
 "metadata": {
  "kernelspec": {
   "display_name": "Python 3 (ipykernel)",
   "language": "python",
   "name": "python3"
  },
  "language_info": {
   "codemirror_mode": {
    "name": "ipython",
    "version": 3
   },
   "file_extension": ".py",
   "mimetype": "text/x-python",
   "name": "python",
   "nbconvert_exporter": "python",
   "pygments_lexer": "ipython3",
   "version": "3.12.7"
  }
 },
 "nbformat": 4,
 "nbformat_minor": 5
}
