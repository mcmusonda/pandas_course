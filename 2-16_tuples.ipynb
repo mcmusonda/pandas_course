{
 "cells": [
  {
   "cell_type": "markdown",
   "id": "ffab7ea0-50d5-426f-bb38-b659ed02186e",
   "metadata": {},
   "source": [
    "# Tuples\n",
    "* Similar to lists - used as containers for multiple data points\n",
    "* Like lists, can accommodate different data types\n",
    "* Unlike lists, tuples are immutable"
   ]
  },
  {
   "cell_type": "code",
   "execution_count": 1,
   "id": "e2573b44-34da-4208-8640-4f58e2b70b8a",
   "metadata": {},
   "outputs": [
    {
     "data": {
      "text/plain": [
       "(1, 2, 3, 4, 5)"
      ]
     },
     "execution_count": 1,
     "metadata": {},
     "output_type": "execute_result"
    }
   ],
   "source": [
    "my_tuple = (1, 2, 3, 4, 5)\n",
    "my_tuple"
   ]
  },
  {
   "cell_type": "code",
   "execution_count": 3,
   "id": "bed24dd1-3472-4b91-a4ba-999ccf7367c0",
   "metadata": {},
   "outputs": [
    {
     "data": {
      "text/plain": [
       "(1, 'two', 3.0, ['four', 5], ('six', 7))"
      ]
     },
     "execution_count": 3,
     "metadata": {},
     "output_type": "execute_result"
    }
   ],
   "source": [
    "mixed_tuple = (1, 'two', 3.0, ['four', 5], ('six', 7))\n",
    "mixed_tuple"
   ]
  },
  {
   "cell_type": "code",
   "execution_count": 4,
   "id": "e1b58728-c183-47c2-a332-58fcd617e4c2",
   "metadata": {},
   "outputs": [
    {
     "data": {
      "text/plain": [
       "'two'"
      ]
     },
     "execution_count": 4,
     "metadata": {},
     "output_type": "execute_result"
    }
   ],
   "source": [
    " mixed_tuple[1]"
   ]
  },
  {
   "cell_type": "code",
   "execution_count": 5,
   "id": "7025a2da-fcd3-4386-81c8-9952e119ba23",
   "metadata": {},
   "outputs": [
    {
     "data": {
      "text/plain": [
       "5"
      ]
     },
     "execution_count": 5,
     "metadata": {},
     "output_type": "execute_result"
    }
   ],
   "source": [
    "mixed_tuple[3][1]"
   ]
  },
  {
   "cell_type": "code",
   "execution_count": null,
   "id": "e4c91622-962f-4d69-8b30-e2a021c29e12",
   "metadata": {},
   "outputs": [],
   "source": []
  }
 ],
 "metadata": {
  "kernelspec": {
   "display_name": "Python 3 (ipykernel)",
   "language": "python",
   "name": "python3"
  },
  "language_info": {
   "codemirror_mode": {
    "name": "ipython",
    "version": 3
   },
   "file_extension": ".py",
   "mimetype": "text/x-python",
   "name": "python",
   "nbconvert_exporter": "python",
   "pygments_lexer": "ipython3",
   "version": "3.12.7"
  }
 },
 "nbformat": 4,
 "nbformat_minor": 5
}
