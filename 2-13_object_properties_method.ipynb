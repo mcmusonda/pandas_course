{
 "cells": [
  {
   "cell_type": "markdown",
   "id": "94cacd6a-a4b8-4e05-80f6-748ddda71734",
   "metadata": {},
   "source": [
    "# Objects, Properties and Methods"
   ]
  },
  {
   "cell_type": "markdown",
   "id": "5ea9c7f4-886e-4035-955e-ecb9f19a755c",
   "metadata": {},
   "source": [
    "* Just about everything in Python is an object.\n",
    "* Objects have attributes and methods.\n",
    "* We can access these attributes and methods via dot notation."
   ]
  },
  {
   "cell_type": "code",
   "execution_count": 2,
   "id": "51fdb206-f54e-4a0b-b9bc-03124bc9065c",
   "metadata": {},
   "outputs": [],
   "source": [
    "obj = 'Can you hear me now?'"
   ]
  },
  {
   "cell_type": "code",
   "execution_count": 3,
   "id": "3e29deda-f14c-4fe0-bca5-8a45e2d7febf",
   "metadata": {},
   "outputs": [
    {
     "data": {
      "text/plain": [
       "'CAN YOU HEAR ME NOW?'"
      ]
     },
     "execution_count": 3,
     "metadata": {},
     "output_type": "execute_result"
    }
   ],
   "source": [
    "obj.upper()"
   ]
  },
  {
   "cell_type": "code",
   "execution_count": null,
   "id": "8502d702-9f78-45fc-b1e5-5bb6570ab3f8",
   "metadata": {},
   "outputs": [],
   "source": []
  }
 ],
 "metadata": {
  "kernelspec": {
   "display_name": "Python 3 (ipykernel)",
   "language": "python",
   "name": "python3"
  },
  "language_info": {
   "codemirror_mode": {
    "name": "ipython",
    "version": 3
   },
   "file_extension": ".py",
   "mimetype": "text/x-python",
   "name": "python",
   "nbconvert_exporter": "python",
   "pygments_lexer": "ipython3",
   "version": "3.12.7"
  }
 },
 "nbformat": 4,
 "nbformat_minor": 5
}
