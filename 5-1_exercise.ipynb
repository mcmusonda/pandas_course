{
 "cells": [
  {
   "cell_type": "markdown",
   "id": "69347595-0703-4f68-94bb-30164ab6a9a2",
   "metadata": {},
   "source": [
    "# Chapter 5-1 Exercise"
   ]
  },
  {
   "cell_type": "code",
   "execution_count": 2,
   "id": "d8e0f724-aed4-4e0e-aca6-ff665f9aa71d",
   "metadata": {},
   "outputs": [],
   "source": [
    "# import pandas library\n",
    "import pandas as pd"
   ]
  },
  {
   "cell_type": "code",
   "execution_count": 3,
   "id": "6ae12bb8-ce24-4225-8367-54286f463115",
   "metadata": {},
   "outputs": [],
   "source": [
    "houses_path = 'data/kc_house_data.csv'\n",
    "house_sales = pd.read_csv(houses_path)"
   ]
  },
  {
   "cell_type": "markdown",
   "id": "4944fdb0-b01a-48f3-b7f2-d6e681e5042e",
   "metadata": {},
   "source": [
    "## 1. Apply the sum method to the DataFrame."
   ]
  },
  {
   "cell_type": "code",
   "execution_count": 4,
   "id": "692a860a-6480-4763-96ba-c1bc9e330170",
   "metadata": {},
   "outputs": [
    {
     "data": {
      "text/plain": [
       "id                                                  98994056770455\n",
       "date             20141013T00000020141209T00000020150225T0000002...\n",
       "price                                                11672925008.0\n",
       "bedrooms                                                     72854\n",
       "bathrooms                                                 45706.25\n",
       "sqft_living                                               44952873\n",
       "sqft_lot                                                 326506890\n",
       "floors                                                     32296.5\n",
       "waterfront                                                     163\n",
       "view                                                          5064\n",
       "condition                                                    73688\n",
       "grade                                                       165488\n",
       "sqft_above                                                38652488\n",
       "sqft_basement                                              6300385\n",
       "yr_built                                                  42599334\n",
       "yr_renovated                                               1824186\n",
       "zipcode                                                 2119758513\n",
       "lat                                                   1027915.4151\n",
       "long                                                  -2641408.943\n",
       "sqft_living15                                             42935359\n",
       "sqft_lot15                                               275964632\n",
       "dtype: object"
      ]
     },
     "execution_count": 4,
     "metadata": {},
     "output_type": "execute_result"
    }
   ],
   "source": [
    "house_sales.sum()"
   ]
  },
  {
   "cell_type": "code",
   "execution_count": 5,
   "id": "315a9232-8e46-43e4-b263-6953b57a2b8e",
   "metadata": {},
   "outputs": [
    {
     "data": {
      "text/plain": [
       "id               9.899406e+13\n",
       "price            1.167293e+10\n",
       "bedrooms         7.285400e+04\n",
       "bathrooms        4.570625e+04\n",
       "sqft_living      4.495287e+07\n",
       "sqft_lot         3.265069e+08\n",
       "floors           3.229650e+04\n",
       "waterfront       1.630000e+02\n",
       "view             5.064000e+03\n",
       "condition        7.368800e+04\n",
       "grade            1.654880e+05\n",
       "sqft_above       3.865249e+07\n",
       "sqft_basement    6.300385e+06\n",
       "yr_built         4.259933e+07\n",
       "yr_renovated     1.824186e+06\n",
       "zipcode          2.119759e+09\n",
       "lat              1.027915e+06\n",
       "long            -2.641409e+06\n",
       "sqft_living15    4.293536e+07\n",
       "sqft_lot15       2.759646e+08\n",
       "dtype: float64"
      ]
     },
     "execution_count": 5,
     "metadata": {},
     "output_type": "execute_result"
    }
   ],
   "source": [
    "house_sales.sum(numeric_only=True)"
   ]
  },
  {
   "cell_type": "code",
   "execution_count": null,
   "id": "68b4684a-bda5-44f0-8edf-22ce07ff72eb",
   "metadata": {},
   "outputs": [],
   "source": []
  }
 ],
 "metadata": {
  "kernelspec": {
   "display_name": "Python 3 (ipykernel)",
   "language": "python",
   "name": "python3"
  },
  "language_info": {
   "codemirror_mode": {
    "name": "ipython",
    "version": 3
   },
   "file_extension": ".py",
   "mimetype": "text/x-python",
   "name": "python",
   "nbconvert_exporter": "python",
   "pygments_lexer": "ipython3",
   "version": "3.12.7"
  }
 },
 "nbformat": 4,
 "nbformat_minor": 5
}
