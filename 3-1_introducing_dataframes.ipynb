{
 "cells": [
  {
   "cell_type": "markdown",
   "id": "d52cc32c-8c5c-490d-bf04-afaea465acc9",
   "metadata": {},
   "source": [
    "# DataFrames\n",
    "They are:\n",
    "* Flexible, two-dimensional data structures\n",
    "* Easy organisation with labeled rows and columns\n",
    "* Loaded with built-in functions for data analysis and manipulation\n",
    "* Streamlines data-crunching tasks for efficient, powerful results.\n",
    "  "
   ]
  },
  {
   "cell_type": "code",
   "execution_count": 1,
   "id": "bd8b7078-936b-4bb9-be18-5a06c8636e1e",
   "metadata": {},
   "outputs": [],
   "source": [
    "import pandas as pd"
   ]
  },
  {
   "cell_type": "markdown",
   "id": "048d5530-91cf-48a5-a0cf-b02cef5aa51f",
   "metadata": {},
   "source": [
    "## Creating DataFrames\n",
    "### Creating dataframes from scratch."
   ]
  },
  {
   "cell_type": "code",
   "execution_count": null,
   "id": "c22163d0-3a48-48b8-a295-2ce03381e1db",
   "metadata": {},
   "outputs": [],
   "source": [
    "{\n",
    "    'pet_name': ['Max', 'Juius', 'Cal\n",
    " }"
   ]
  }
 ],
 "metadata": {
  "kernelspec": {
   "display_name": "Python 3 (ipykernel)",
   "language": "python",
   "name": "python3"
  },
  "language_info": {
   "codemirror_mode": {
    "name": "ipython",
    "version": 3
   },
   "file_extension": ".py",
   "mimetype": "text/x-python",
   "name": "python",
   "nbconvert_exporter": "python",
   "pygments_lexer": "ipython3",
   "version": "3.12.7"
  }
 },
 "nbformat": 4,
 "nbformat_minor": 5
}
