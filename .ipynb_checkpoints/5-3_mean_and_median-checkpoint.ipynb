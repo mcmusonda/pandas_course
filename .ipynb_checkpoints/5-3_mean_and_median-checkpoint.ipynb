{
 "cells": [
  {
   "cell_type": "markdown",
   "id": "d74a4497-aef4-4bbe-9967-0113a5b35ae1",
   "metadata": {},
   "source": [
    "# Chapter 5-3: Mean and Median"
   ]
  },
  {
   "cell_type": "code",
   "execution_count": 1,
   "id": "a301f2a8-f03a-4f65-a72d-7148891851b7",
   "metadata": {},
   "outputs": [],
   "source": [
    "import pandas as pd"
   ]
  },
  {
   "cell_type": "code",
   "execution_count": 10,
   "id": "8225beec-d1af-4967-80a8-f26bf1e96f44",
   "metadata": {},
   "outputs": [],
   "source": [
    "# Display numbers in human readable format\n",
    "pd.options.display.float_format = '{:.2f}'.format"
   ]
  },
  {
   "cell_type": "code",
   "execution_count": 6,
   "id": "bcdc386f-017b-4aaa-bf0a-bf47764b7497",
   "metadata": {},
   "outputs": [],
   "source": [
    "houses_path = 'data/kc_house_data.csv'"
   ]
  },
  {
   "cell_type": "code",
   "execution_count": 7,
   "id": "11cf406c-bdc7-4ac2-ba7c-231520ab7cb7",
   "metadata": {},
   "outputs": [
    {
     "data": {
      "text/html": [
       "<div>\n",
       "<style scoped>\n",
       "    .dataframe tbody tr th:only-of-type {\n",
       "        vertical-align: middle;\n",
       "    }\n",
       "\n",
       "    .dataframe tbody tr th {\n",
       "        vertical-align: top;\n",
       "    }\n",
       "\n",
       "    .dataframe thead th {\n",
       "        text-align: right;\n",
       "    }\n",
       "</style>\n",
       "<table border=\"1\" class=\"dataframe\">\n",
       "  <thead>\n",
       "    <tr style=\"text-align: right;\">\n",
       "      <th></th>\n",
       "      <th>id</th>\n",
       "      <th>date</th>\n",
       "      <th>price</th>\n",
       "      <th>bedrooms</th>\n",
       "      <th>bathrooms</th>\n",
       "      <th>sqft_living</th>\n",
       "      <th>sqft_lot</th>\n",
       "      <th>floors</th>\n",
       "      <th>waterfront</th>\n",
       "      <th>view</th>\n",
       "      <th>...</th>\n",
       "      <th>grade</th>\n",
       "      <th>sqft_above</th>\n",
       "      <th>sqft_basement</th>\n",
       "      <th>yr_built</th>\n",
       "      <th>yr_renovated</th>\n",
       "      <th>zipcode</th>\n",
       "      <th>lat</th>\n",
       "      <th>long</th>\n",
       "      <th>sqft_living15</th>\n",
       "      <th>sqft_lot15</th>\n",
       "    </tr>\n",
       "  </thead>\n",
       "  <tbody>\n",
       "    <tr>\n",
       "      <th>0</th>\n",
       "      <td>7129300520</td>\n",
       "      <td>20141013T000000</td>\n",
       "      <td>221900.0</td>\n",
       "      <td>3</td>\n",
       "      <td>1.0</td>\n",
       "      <td>1180</td>\n",
       "      <td>5650</td>\n",
       "      <td>1.0</td>\n",
       "      <td>0</td>\n",
       "      <td>0</td>\n",
       "      <td>...</td>\n",
       "      <td>7</td>\n",
       "      <td>1180</td>\n",
       "      <td>0</td>\n",
       "      <td>1955</td>\n",
       "      <td>0</td>\n",
       "      <td>98178</td>\n",
       "      <td>47.5</td>\n",
       "      <td>-122.3</td>\n",
       "      <td>1340</td>\n",
       "      <td>5650</td>\n",
       "    </tr>\n",
       "    <tr>\n",
       "      <th>1</th>\n",
       "      <td>6414100192</td>\n",
       "      <td>20141209T000000</td>\n",
       "      <td>538000.0</td>\n",
       "      <td>3</td>\n",
       "      <td>2.2</td>\n",
       "      <td>2570</td>\n",
       "      <td>7242</td>\n",
       "      <td>2.0</td>\n",
       "      <td>0</td>\n",
       "      <td>0</td>\n",
       "      <td>...</td>\n",
       "      <td>7</td>\n",
       "      <td>2170</td>\n",
       "      <td>400</td>\n",
       "      <td>1951</td>\n",
       "      <td>1991</td>\n",
       "      <td>98125</td>\n",
       "      <td>47.7</td>\n",
       "      <td>-122.3</td>\n",
       "      <td>1690</td>\n",
       "      <td>7639</td>\n",
       "    </tr>\n",
       "    <tr>\n",
       "      <th>2</th>\n",
       "      <td>5631500400</td>\n",
       "      <td>20150225T000000</td>\n",
       "      <td>180000.0</td>\n",
       "      <td>2</td>\n",
       "      <td>1.0</td>\n",
       "      <td>770</td>\n",
       "      <td>10000</td>\n",
       "      <td>1.0</td>\n",
       "      <td>0</td>\n",
       "      <td>0</td>\n",
       "      <td>...</td>\n",
       "      <td>6</td>\n",
       "      <td>770</td>\n",
       "      <td>0</td>\n",
       "      <td>1933</td>\n",
       "      <td>0</td>\n",
       "      <td>98028</td>\n",
       "      <td>47.7</td>\n",
       "      <td>-122.2</td>\n",
       "      <td>2720</td>\n",
       "      <td>8062</td>\n",
       "    </tr>\n",
       "    <tr>\n",
       "      <th>3</th>\n",
       "      <td>2487200875</td>\n",
       "      <td>20141209T000000</td>\n",
       "      <td>604000.0</td>\n",
       "      <td>4</td>\n",
       "      <td>3.0</td>\n",
       "      <td>1960</td>\n",
       "      <td>5000</td>\n",
       "      <td>1.0</td>\n",
       "      <td>0</td>\n",
       "      <td>0</td>\n",
       "      <td>...</td>\n",
       "      <td>7</td>\n",
       "      <td>1050</td>\n",
       "      <td>910</td>\n",
       "      <td>1965</td>\n",
       "      <td>0</td>\n",
       "      <td>98136</td>\n",
       "      <td>47.5</td>\n",
       "      <td>-122.4</td>\n",
       "      <td>1360</td>\n",
       "      <td>5000</td>\n",
       "    </tr>\n",
       "    <tr>\n",
       "      <th>4</th>\n",
       "      <td>1954400510</td>\n",
       "      <td>20150218T000000</td>\n",
       "      <td>510000.0</td>\n",
       "      <td>3</td>\n",
       "      <td>2.0</td>\n",
       "      <td>1680</td>\n",
       "      <td>8080</td>\n",
       "      <td>1.0</td>\n",
       "      <td>0</td>\n",
       "      <td>0</td>\n",
       "      <td>...</td>\n",
       "      <td>8</td>\n",
       "      <td>1680</td>\n",
       "      <td>0</td>\n",
       "      <td>1987</td>\n",
       "      <td>0</td>\n",
       "      <td>98074</td>\n",
       "      <td>47.6</td>\n",
       "      <td>-122.0</td>\n",
       "      <td>1800</td>\n",
       "      <td>7503</td>\n",
       "    </tr>\n",
       "  </tbody>\n",
       "</table>\n",
       "<p>5 rows × 21 columns</p>\n",
       "</div>"
      ],
      "text/plain": [
       "           id             date    price  bedrooms  bathrooms  sqft_living  \\\n",
       "0  7129300520  20141013T000000 221900.0         3        1.0         1180   \n",
       "1  6414100192  20141209T000000 538000.0         3        2.2         2570   \n",
       "2  5631500400  20150225T000000 180000.0         2        1.0          770   \n",
       "3  2487200875  20141209T000000 604000.0         4        3.0         1960   \n",
       "4  1954400510  20150218T000000 510000.0         3        2.0         1680   \n",
       "\n",
       "   sqft_lot  floors  waterfront  view  ...  grade  sqft_above  sqft_basement  \\\n",
       "0      5650     1.0           0     0  ...      7        1180              0   \n",
       "1      7242     2.0           0     0  ...      7        2170            400   \n",
       "2     10000     1.0           0     0  ...      6         770              0   \n",
       "3      5000     1.0           0     0  ...      7        1050            910   \n",
       "4      8080     1.0           0     0  ...      8        1680              0   \n",
       "\n",
       "   yr_built  yr_renovated  zipcode  lat   long  sqft_living15  sqft_lot15  \n",
       "0      1955             0    98178 47.5 -122.3           1340        5650  \n",
       "1      1951          1991    98125 47.7 -122.3           1690        7639  \n",
       "2      1933             0    98028 47.7 -122.2           2720        8062  \n",
       "3      1965             0    98136 47.5 -122.4           1360        5000  \n",
       "4      1987             0    98074 47.6 -122.0           1800        7503  \n",
       "\n",
       "[5 rows x 21 columns]"
      ]
     },
     "execution_count": 7,
     "metadata": {},
     "output_type": "execute_result"
    }
   ],
   "source": [
    "house_sales = pd.read_csv(houses_path)\n",
    "house_sales.head()"
   ]
  },
  {
   "cell_type": "code",
   "execution_count": 11,
   "id": "b0d1d07f-cf91-482d-a3ee-8732c880a8cc",
   "metadata": {},
   "outputs": [
    {
     "data": {
      "text/plain": [
       "id              4580301520.86\n",
       "price               540088.14\n",
       "bedrooms                 3.37\n",
       "bathrooms                2.11\n",
       "sqft_living           2079.90\n",
       "sqft_lot             15106.97\n",
       "floors                   1.49\n",
       "waterfront               0.01\n",
       "view                     0.23\n",
       "condition                3.41\n",
       "grade                    7.66\n",
       "sqft_above            1788.39\n",
       "sqft_basement          291.51\n",
       "yr_built              1971.01\n",
       "yr_renovated            84.40\n",
       "zipcode              98077.94\n",
       "lat                     47.56\n",
       "long                  -122.21\n",
       "sqft_living15         1986.55\n",
       "sqft_lot15           12768.46\n",
       "dtype: float64"
      ]
     },
     "execution_count": 11,
     "metadata": {},
     "output_type": "execute_result"
    }
   ],
   "source": [
    "house_sales.mean(numeric_only=True)"
   ]
  },
  {
   "cell_type": "code",
   "execution_count": 12,
   "id": "3c8b770d-0052-4d58-87c7-6c1549e613d1",
   "metadata": {},
   "outputs": [
    {
     "data": {
      "text/plain": [
       "id              3904930410.00\n",
       "price               450000.00\n",
       "bedrooms                 3.00\n",
       "bathrooms                2.25\n",
       "sqft_living           1910.00\n",
       "sqft_lot              7618.00\n",
       "floors                   1.50\n",
       "waterfront               0.00\n",
       "view                     0.00\n",
       "condition                3.00\n",
       "grade                    7.00\n",
       "sqft_above            1560.00\n",
       "sqft_basement            0.00\n",
       "yr_built              1975.00\n",
       "yr_renovated             0.00\n",
       "zipcode              98065.00\n",
       "lat                     47.57\n",
       "long                  -122.23\n",
       "sqft_living15         1840.00\n",
       "sqft_lot15            7620.00\n",
       "dtype: float64"
      ]
     },
     "execution_count": 12,
     "metadata": {},
     "output_type": "execute_result"
    }
   ],
   "source": [
    "house_sales.median(numeric_only=True)"
   ]
  },
  {
   "cell_type": "code",
   "execution_count": 13,
   "id": "46e06ef9-df28-492c-872f-a7676162ef8e",
   "metadata": {},
   "outputs": [
    {
     "data": {
      "text/plain": [
       "90088.14176652941"
      ]
     },
     "execution_count": 13,
     "metadata": {},
     "output_type": "execute_result"
    }
   ],
   "source": [
    "house_sales['price'].mean() - house_sales['price'].median()"
   ]
  },
  {
   "cell_type": "code",
   "execution_count": null,
   "id": "ab5e84af-575a-4446-b0b2-8d4b45a612f7",
   "metadata": {},
   "outputs": [],
   "source": []
  }
 ],
 "metadata": {
  "kernelspec": {
   "display_name": "Python 3 (ipykernel)",
   "language": "python",
   "name": "python3"
  },
  "language_info": {
   "codemirror_mode": {
    "name": "ipython",
    "version": 3
   },
   "file_extension": ".py",
   "mimetype": "text/x-python",
   "name": "python",
   "nbconvert_exporter": "python",
   "pygments_lexer": "ipython3",
   "version": "3.12.7"
  }
 },
 "nbformat": 4,
 "nbformat_minor": 5
}
