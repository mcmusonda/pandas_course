{
 "cells": [
  {
   "cell_type": "markdown",
   "id": "9d124295-4c5d-4982-b021-fc7f77e73e36",
   "metadata": {},
   "source": [
    "# Chapter 8-1: Updating DataFrame Values Using 'loc'"
   ]
  },
  {
   "cell_type": "code",
   "execution_count": 3,
   "id": "10b3a746-37b8-4ca2-a881-4f44e1071529",
   "metadata": {},
   "outputs": [],
   "source": [
    "import pandas as pd\n",
    "pd.options.display.float_format = '{:.1f}'.format"
   ]
  },
  {
   "cell_type": "code",
   "execution_count": 4,
   "id": "1d30e39f-96c4-4584-a7a8-45aee2882f5f",
   "metadata": {},
   "outputs": [],
   "source": [
    "ufos_path = 'data/ufo_sightings.csv'"
   ]
  },
  {
   "cell_type": "code",
   "execution_count": 6,
   "id": "a555c0b4-fb2c-49ea-ab74-ef1f7664a3dc",
   "metadata": {},
   "outputs": [
    {
     "name": "stderr",
     "output_type": "stream",
     "text": [
      "/tmp/ipykernel_11389/881806717.py:1: DtypeWarning: Columns (5,9) have mixed types. Specify dtype option on import or set low_memory=False.\n",
      "  ufo_sightings = pd.read_csv(ufos_path)\n"
     ]
    }
   ],
   "source": [
    "ufo_sightings = pd.read_csv(ufos_path)"
   ]
  },
  {
   "cell_type": "code",
   "execution_count": 7,
   "id": "bd2ba0ef-141d-47a5-ab9b-87d1d4ce4db6",
   "metadata": {},
   "outputs": [],
   "source": [
    "# Add a column that has a numeric version of one of the columns that can be converted to numeric but is currently assigned object data type\n",
    "ufo_sightings['duration_seconds_numeric'] = pd.to_numeric(ufo_sightings['duration (seconds)'], errors='coerce')"
   ]
  },
  {
   "cell_type": "code",
   "execution_count": 8,
   "id": "8a07d92f-8860-43a9-b6bd-1a5b0093a699",
   "metadata": {
    "scrolled": true
   },
   "outputs": [
    {
     "data": {
      "text/html": [
       "<div>\n",
       "<style scoped>\n",
       "    .dataframe tbody tr th:only-of-type {\n",
       "        vertical-align: middle;\n",
       "    }\n",
       "\n",
       "    .dataframe tbody tr th {\n",
       "        vertical-align: top;\n",
       "    }\n",
       "\n",
       "    .dataframe thead th {\n",
       "        text-align: right;\n",
       "    }\n",
       "</style>\n",
       "<table border=\"1\" class=\"dataframe\">\n",
       "  <thead>\n",
       "    <tr style=\"text-align: right;\">\n",
       "      <th></th>\n",
       "      <th>duration (seconds)</th>\n",
       "      <th>duration_seconds_numeric</th>\n",
       "    </tr>\n",
       "  </thead>\n",
       "  <tbody>\n",
       "    <tr>\n",
       "      <th>27822</th>\n",
       "      <td>2`</td>\n",
       "      <td>NaN</td>\n",
       "    </tr>\n",
       "    <tr>\n",
       "      <th>35692</th>\n",
       "      <td>8`</td>\n",
       "      <td>NaN</td>\n",
       "    </tr>\n",
       "    <tr>\n",
       "      <th>58591</th>\n",
       "      <td>0.5`</td>\n",
       "      <td>NaN</td>\n",
       "    </tr>\n",
       "  </tbody>\n",
       "</table>\n",
       "</div>"
      ],
      "text/plain": [
       "      duration (seconds)  duration_seconds_numeric\n",
       "27822                 2`                       NaN\n",
       "35692                 8`                       NaN\n",
       "58591               0.5`                       NaN"
      ]
     },
     "execution_count": 8,
     "metadata": {},
     "output_type": "execute_result"
    }
   ],
   "source": [
    "seconds_nan = ufo_sightings[ufo_sightings['duration_seconds_numeric'].isna()]\n",
    "seconds_nan[['duration (seconds)', 'duration_seconds_numeric']]"
   ]
  },
  {
   "cell_type": "code",
   "execution_count": 9,
   "id": "bf550c9e-9522-489b-8c2d-fdcbf82665e3",
   "metadata": {},
   "outputs": [
    {
     "data": {
      "text/plain": [
       "'2`'"
      ]
     },
     "execution_count": 9,
     "metadata": {},
     "output_type": "execute_result"
    }
   ],
   "source": [
    "ufo_sightings.loc[27822, 'duration (seconds)']"
   ]
  },
  {
   "cell_type": "code",
   "execution_count": 10,
   "id": "74c7620a-7cff-42b1-b109-baac8fec126b",
   "metadata": {},
   "outputs": [],
   "source": [
    "ufo_sightings.loc[27822, 'duration (seconds)'] = 2"
   ]
  },
  {
   "cell_type": "code",
   "execution_count": 11,
   "id": "74b3badb-7cc9-4af8-b425-2a7d7b98331a",
   "metadata": {},
   "outputs": [
    {
     "data": {
      "text/plain": [
       "2"
      ]
     },
     "execution_count": 11,
     "metadata": {},
     "output_type": "execute_result"
    }
   ],
   "source": [
    "ufo_sightings.loc[27822, 'duration (seconds)']"
   ]
  },
  {
   "cell_type": "code",
   "execution_count": 12,
   "id": "54795794-1d32-4cce-98a1-d56c77a04064",
   "metadata": {},
   "outputs": [
    {
     "data": {
      "text/plain": [
       "35692      8`\n",
       "58591    0.5`\n",
       "Name: duration (seconds), dtype: object"
      ]
     },
     "execution_count": 12,
     "metadata": {},
     "output_type": "execute_result"
    }
   ],
   "source": [
    "ufo_sightings.loc[[35692, 58591], 'duration (seconds)']"
   ]
  },
  {
   "cell_type": "code",
   "execution_count": 13,
   "id": "efd09874-efc2-4225-89d1-962bfc43f885",
   "metadata": {},
   "outputs": [],
   "source": [
    "ufo_sightings.loc[[35692, 58591], 'duration (seconds)'] = [8, 0.5]"
   ]
  },
  {
   "cell_type": "code",
   "execution_count": 14,
   "id": "16211a3d-23eb-4ef9-baf0-e115f7d1ef6c",
   "metadata": {},
   "outputs": [
    {
     "data": {
      "text/plain": [
       "35692     8\n",
       "58591   0.5\n",
       "Name: duration (seconds), dtype: object"
      ]
     },
     "execution_count": 14,
     "metadata": {},
     "output_type": "execute_result"
    }
   ],
   "source": [
    "ufo_sightings.loc[[35692, 58591], 'duration (seconds)']"
   ]
  },
  {
   "cell_type": "code",
   "execution_count": 15,
   "id": "42535d67-ef08-4100-ab5b-e7d1b682f44c",
   "metadata": {},
   "outputs": [
    {
     "data": {
      "text/html": [
       "<div>\n",
       "<style scoped>\n",
       "    .dataframe tbody tr th:only-of-type {\n",
       "        vertical-align: middle;\n",
       "    }\n",
       "\n",
       "    .dataframe tbody tr th {\n",
       "        vertical-align: top;\n",
       "    }\n",
       "\n",
       "    .dataframe thead th {\n",
       "        text-align: right;\n",
       "    }\n",
       "</style>\n",
       "<table border=\"1\" class=\"dataframe\">\n",
       "  <thead>\n",
       "    <tr style=\"text-align: right;\">\n",
       "      <th></th>\n",
       "      <th>duration (seconds)</th>\n",
       "      <th>duration_seconds_numeric</th>\n",
       "    </tr>\n",
       "  </thead>\n",
       "  <tbody>\n",
       "    <tr>\n",
       "      <th>27822</th>\n",
       "      <td>2`</td>\n",
       "      <td>NaN</td>\n",
       "    </tr>\n",
       "    <tr>\n",
       "      <th>35692</th>\n",
       "      <td>8`</td>\n",
       "      <td>NaN</td>\n",
       "    </tr>\n",
       "    <tr>\n",
       "      <th>58591</th>\n",
       "      <td>0.5`</td>\n",
       "      <td>NaN</td>\n",
       "    </tr>\n",
       "  </tbody>\n",
       "</table>\n",
       "</div>"
      ],
      "text/plain": [
       "      duration (seconds)  duration_seconds_numeric\n",
       "27822                 2`                       NaN\n",
       "35692                 8`                       NaN\n",
       "58591               0.5`                       NaN"
      ]
     },
     "execution_count": 15,
     "metadata": {},
     "output_type": "execute_result"
    }
   ],
   "source": [
    "seconds_nan[['duration (seconds)', 'duration_seconds_numeric']]"
   ]
  },
  {
   "cell_type": "code",
   "execution_count": 16,
   "id": "37f94185-cfaa-4291-a981-7cfc87a722fe",
   "metadata": {},
   "outputs": [
    {
     "data": {
      "text/html": [
       "<div>\n",
       "<style scoped>\n",
       "    .dataframe tbody tr th:only-of-type {\n",
       "        vertical-align: middle;\n",
       "    }\n",
       "\n",
       "    .dataframe tbody tr th {\n",
       "        vertical-align: top;\n",
       "    }\n",
       "\n",
       "    .dataframe thead th {\n",
       "        text-align: right;\n",
       "    }\n",
       "</style>\n",
       "<table border=\"1\" class=\"dataframe\">\n",
       "  <thead>\n",
       "    <tr style=\"text-align: right;\">\n",
       "      <th></th>\n",
       "      <th>duration (seconds)</th>\n",
       "      <th>duration_seconds_numeric</th>\n",
       "    </tr>\n",
       "  </thead>\n",
       "  <tbody>\n",
       "    <tr>\n",
       "      <th>27822</th>\n",
       "      <td>2</td>\n",
       "      <td>NaN</td>\n",
       "    </tr>\n",
       "    <tr>\n",
       "      <th>35692</th>\n",
       "      <td>8</td>\n",
       "      <td>NaN</td>\n",
       "    </tr>\n",
       "    <tr>\n",
       "      <th>58591</th>\n",
       "      <td>0.5</td>\n",
       "      <td>NaN</td>\n",
       "    </tr>\n",
       "  </tbody>\n",
       "</table>\n",
       "</div>"
      ],
      "text/plain": [
       "      duration (seconds)  duration_seconds_numeric\n",
       "27822                  2                       NaN\n",
       "35692                  8                       NaN\n",
       "58591                0.5                       NaN"
      ]
     },
     "execution_count": 16,
     "metadata": {},
     "output_type": "execute_result"
    }
   ],
   "source": [
    "seconds_nan = ufo_sightings[ufo_sightings['duration_seconds_numeric'].isna()]\n",
    "seconds_nan[['duration (seconds)', 'duration_seconds_numeric']]"
   ]
  },
  {
   "cell_type": "code",
   "execution_count": null,
   "id": "c9149852-cbb9-48c5-844b-face51fabadd",
   "metadata": {},
   "outputs": [],
   "source": []
  }
 ],
 "metadata": {
  "kernelspec": {
   "display_name": "Python 3 (ipykernel)",
   "language": "python",
   "name": "python3"
  },
  "language_info": {
   "codemirror_mode": {
    "name": "ipython",
    "version": 3
   },
   "file_extension": ".py",
   "mimetype": "text/x-python",
   "name": "python",
   "nbconvert_exporter": "python",
   "pygments_lexer": "ipython3",
   "version": "3.12.7"
  }
 },
 "nbformat": 4,
 "nbformat_minor": 5
}
